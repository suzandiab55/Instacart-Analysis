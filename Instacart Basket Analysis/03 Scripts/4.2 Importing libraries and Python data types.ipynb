{
 "cells": [
  {
   "cell_type": "markdown",
   "id": "6a98fbaa",
   "metadata": {},
   "source": [
    "# Introduction to Importing Libraries and Data Types"
   ]
  },
  {
   "cell_type": "markdown",
   "id": "4a430737",
   "metadata": {},
   "source": [
    "## Table of Contents \n",
    "* [01. Importing Libraries](#01.-Importing-Libraries)\n",
    "* [02. Data Types](02.-Data-Types)"
   ]
  },
  {
   "cell_type": "markdown",
   "id": "f7027b7f",
   "metadata": {},
   "source": [
    "# 01. Importing Libraries "
   ]
  },
  {
   "cell_type": "code",
   "execution_count": 1,
   "id": "078eaf9a",
   "metadata": {},
   "outputs": [],
   "source": [
    "# Import libraries\n",
    "import pandas as pd\n",
    "import numpy as np\n",
    "import os"
   ]
  },
  {
   "cell_type": "markdown",
   "id": "c82e730a",
   "metadata": {},
   "source": [
    "# 02. Data Types"
   ]
  },
  {
   "cell_type": "code",
   "execution_count": 2,
   "id": "79febc47",
   "metadata": {},
   "outputs": [],
   "source": [
    "x = 50 + 20 + 30"
   ]
  },
  {
   "cell_type": "code",
   "execution_count": 3,
   "id": "41cf4007",
   "metadata": {},
   "outputs": [
    {
     "name": "stdout",
     "output_type": "stream",
     "text": [
      "100\n"
     ]
    }
   ],
   "source": [
    "print(x)"
   ]
  },
  {
   "cell_type": "code",
   "execution_count": 4,
   "id": "c8b481db",
   "metadata": {},
   "outputs": [],
   "source": [
    "y = 120 - 30 + 10"
   ]
  },
  {
   "cell_type": "code",
   "execution_count": 5,
   "id": "0a5909d9",
   "metadata": {},
   "outputs": [
    {
     "name": "stdout",
     "output_type": "stream",
     "text": [
      "100\n"
     ]
    }
   ],
   "source": [
    "print(y)"
   ]
  },
  {
   "cell_type": "code",
   "execution_count": 6,
   "id": "e8ec4a87",
   "metadata": {},
   "outputs": [],
   "source": [
    "z = 500 - 400"
   ]
  },
  {
   "cell_type": "code",
   "execution_count": 7,
   "id": "217270c4",
   "metadata": {},
   "outputs": [
    {
     "name": "stdout",
     "output_type": "stream",
     "text": [
      "100\n"
     ]
    }
   ],
   "source": [
    "print(z)"
   ]
  },
  {
   "cell_type": "code",
   "execution_count": 8,
   "id": "db54a4fe",
   "metadata": {},
   "outputs": [],
   "source": [
    "g = 4.01"
   ]
  },
  {
   "cell_type": "code",
   "execution_count": 9,
   "id": "fdf8f97f",
   "metadata": {},
   "outputs": [],
   "source": [
    "h = 5.07"
   ]
  },
  {
   "cell_type": "code",
   "execution_count": 10,
   "id": "820528d4",
   "metadata": {},
   "outputs": [
    {
     "data": {
      "text/plain": [
       "0.7909270216962524"
      ]
     },
     "execution_count": 10,
     "metadata": {},
     "output_type": "execute_result"
    }
   ],
   "source": [
    "g/h"
   ]
  },
  {
   "cell_type": "code",
   "execution_count": 11,
   "id": "52aadcbe",
   "metadata": {},
   "outputs": [],
   "source": [
    "f = 'Lib'"
   ]
  },
  {
   "cell_type": "code",
   "execution_count": 12,
   "id": "5f67f957",
   "metadata": {},
   "outputs": [],
   "source": [
    "d = 'rary'"
   ]
  },
  {
   "cell_type": "code",
   "execution_count": 13,
   "id": "107ede7f",
   "metadata": {},
   "outputs": [
    {
     "data": {
      "text/plain": [
       "'Library'"
      ]
     },
     "execution_count": 13,
     "metadata": {},
     "output_type": "execute_result"
    }
   ],
   "source": [
    "f + d"
   ]
  },
  {
   "cell_type": "code",
   "execution_count": 20,
   "id": "77a52212",
   "metadata": {},
   "outputs": [],
   "source": [
    "c = 'My name is Suzan.'"
   ]
  },
  {
   "cell_type": "code",
   "execution_count": 21,
   "id": "9225f2e6",
   "metadata": {},
   "outputs": [],
   "source": [
    "k = ' What is your name?'"
   ]
  },
  {
   "cell_type": "code",
   "execution_count": 22,
   "id": "8baa9add",
   "metadata": {},
   "outputs": [
    {
     "data": {
      "text/plain": [
       "'My name is Suzan. What is your name?'"
      ]
     },
     "execution_count": 22,
     "metadata": {},
     "output_type": "execute_result"
    }
   ],
   "source": [
    "c + k"
   ]
  }
 ],
 "metadata": {
  "kernelspec": {
   "display_name": "Python 3 (ipykernel)",
   "language": "python",
   "name": "python3"
  },
  "language_info": {
   "codemirror_mode": {
    "name": "ipython",
    "version": 3
   },
   "file_extension": ".py",
   "mimetype": "text/x-python",
   "name": "python",
   "nbconvert_exporter": "python",
   "pygments_lexer": "ipython3",
   "version": "3.11.5"
  }
 },
 "nbformat": 4,
 "nbformat_minor": 5
}
